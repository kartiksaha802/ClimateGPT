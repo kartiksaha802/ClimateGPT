{
 "cells": [
  {
   "cell_type": "code",
   "execution_count": 45,
   "metadata": {},
   "outputs": [
    {
     "data": {
      "text/plain": [
       "'C:\\\\Users\\\\karti\\\\Desktop\\\\weather_bot'"
      ]
     },
     "execution_count": 45,
     "metadata": {},
     "output_type": "execute_result"
    }
   ],
   "source": [
    "import os\n",
    "Root=\"C:/Users/karti/Desktop/weather_bot/\"\n",
    "os.chdir(Root)\n",
    "os.getcwd()"
   ]
  },
  {
   "cell_type": "code",
   "execution_count": 2,
   "metadata": {},
   "outputs": [
    {
     "data": {
      "text/plain": [
       "True"
      ]
     },
     "execution_count": 2,
     "metadata": {},
     "output_type": "execute_result"
    }
   ],
   "source": [
    "import requests\n",
    "from dotenv import load_dotenv\n",
    "import json\n",
    "load_dotenv()\n",
    "\n"
   ]
  },
  {
   "cell_type": "code",
   "execution_count": 3,
   "metadata": {},
   "outputs": [],
   "source": [
    "OPENAI_API_KEY = os.getenv(\"OPENAI_API_KEY\")\n",
    "GPT_MODEL = \"gpt-3.5-turbo-0613\" # new model for function calling abilities"
   ]
  },
  {
   "cell_type": "code",
   "execution_count": 30,
   "metadata": {},
   "outputs": [],
   "source": [
    "\n",
    "def chat_completion_request(messages,functions=None,function_call=None):\n",
    "    headers = {\n",
    "        \"Content-Type\": \"application/json\",\n",
    "        \"Authorization\": \"Bearer \" + OPENAI_API_KEY,\n",
    "    }\n",
    "    data = {\n",
    "        \"model\": \"gpt-3.5-turbo-0613\",\n",
    "        \"messages\":messages\n",
    "    }\n",
    "    if functions is not None:\n",
    "        data.update({\"functions\": functions})\n",
    "    #if function_call is not None:\n",
    "        #data.update({\"function_call\": function_call})\n",
    "    response = requests.post(\"https://api.openai.com/v1/chat/completions\", headers=headers, json=data)\n",
    "    return response"
   ]
  },
  {
   "cell_type": "code",
   "execution_count": 46,
   "metadata": {},
   "outputs": [
    {
     "data": {
      "text/plain": [
       "<Response [200]>"
      ]
     },
     "execution_count": 46,
     "metadata": {},
     "output_type": "execute_result"
    }
   ],
   "source": [
    "# simple use\n",
    "\n",
    "sample_messages = [\n",
    "    {\"role\": \"system\", \"content\": \"you are a helpful assistant\"},\n",
    "    {\"role\": \"user\", \"content\": \"Hi there\"},\n",
    "]\n",
    "\n",
    "chat_response = chat_completion_request(messages=sample_messages)\n",
    "\n",
    "chat_response"
   ]
  },
  {
   "cell_type": "code",
   "execution_count": 47,
   "metadata": {},
   "outputs": [],
   "source": [
    "creator_name = \"kartik\"\n",
    "\n",
    "system_instruction = f\"\"\"\n",
    "You are Weather bot created by {creator_name}, \\\n",
    "You first greet the customer, and you MUST introduce yourself as -\n",
    "\"Hi I am Weather bot created by {creator_name}! How may I assist you today?\" \\\n",
    "an automated service to tell Weather infomation \\\n",
    "based on the location provided by the user. \\\n",
    "then collects the location information\\\n",
    "Don't make assumptions about what \\\n",
    "values to plug into functions. \\\n",
    "Ask for clarification if a user request is ambiguous.\n",
    "You respond in a short, very conversational friendly style. \\\n",
    "\"\"\""
   ]
  },
  {
   "cell_type": "code",
   "execution_count": 7,
   "metadata": {},
   "outputs": [],
   "source": [
    "messages = [\n",
    "    {\"role\": \"system\", \"content\": system_instruction}\n",
    "]"
   ]
  },
  {
   "cell_type": "code",
   "execution_count": 8,
   "metadata": {},
   "outputs": [
    {
     "data": {
      "text/plain": [
       "<Response [200]>"
      ]
     },
     "execution_count": 8,
     "metadata": {},
     "output_type": "execute_result"
    }
   ],
   "source": [
    "chat_response = chat_completion_request(messages=messages)\n",
    "\n",
    "chat_response"
   ]
  },
  {
   "cell_type": "code",
   "execution_count": 48,
   "metadata": {},
   "outputs": [],
   "source": [
    "functions = [\n",
    "    {\n",
    "        \"name\": \"get_current_weather\", # name of your function\n",
    "        \"description\": \"Get the current weather\", # description of your function\n",
    "        \"parameters\": {\n",
    "            \"type\": \"object\",\n",
    "            \"properties\": { # 1st argument of your function\n",
    "                \"location\": { # argument name\n",
    "                    \"type\": \"string\", # argument type\n",
    "                    \"description\": \"The city and state, e.g. San Francisco, CA\", # description of your function with example\n",
    "                }\n",
    "            },\n",
    "            \"required\": [\"location\"], # required argument of your\n",
    "        },\n",
    "    }\n",
    "]"
   ]
  },
  {
   "cell_type": "code",
   "execution_count": 50,
   "metadata": {},
   "outputs": [],
   "source": [
    "def get_current_weather(location):\n",
    "    RAPID_API_KEY = os.getenv(\"RAPID_API_KEY\")\n",
    "    import requests\n",
    "\n",
    "    url = \"https://weatherapi-com.p.rapidapi.com/current.json\"\n",
    "\n",
    "    querystring = {\"q\":location}\n",
    "\n",
    "    headers = {\n",
    "        \"X-RapidAPI-Key\": RAPID_API_KEY,\n",
    "        \"X-RapidAPI-Host\": \"weatherapi-com.p.rapidapi.com\"\n",
    "    }\n",
    "\n",
    "    response = requests.get(url, headers=headers, params=querystring)\n",
    "    return response.json()\n",
    "\n"
   ]
  },
  {
   "cell_type": "code",
   "execution_count": 8,
   "metadata": {},
   "outputs": [
    {
     "data": {
      "text/plain": [
       "{'location': {'name': 'Chennai',\n",
       "  'region': 'Tamil Nadu',\n",
       "  'country': 'India',\n",
       "  'lat': 13.08,\n",
       "  'lon': 80.28,\n",
       "  'tz_id': 'Asia/Kolkata',\n",
       "  'localtime_epoch': 1691514098,\n",
       "  'localtime': '2023-08-08 22:31'},\n",
       " 'current': {'last_updated_epoch': 1691513100,\n",
       "  'last_updated': '2023-08-08 22:15',\n",
       "  'temp_c': 29.9,\n",
       "  'temp_f': 85.8,\n",
       "  'is_day': 0,\n",
       "  'condition': {'text': 'Partly cloudy',\n",
       "   'icon': '//cdn.weatherapi.com/weather/64x64/night/116.png',\n",
       "   'code': 1003},\n",
       "  'wind_mph': 11.6,\n",
       "  'wind_kph': 18.7,\n",
       "  'wind_degree': 176,\n",
       "  'wind_dir': 'S',\n",
       "  'pressure_mb': 1008.0,\n",
       "  'pressure_in': 29.76,\n",
       "  'precip_mm': 0.0,\n",
       "  'precip_in': 0.0,\n",
       "  'humidity': 72,\n",
       "  'cloud': 50,\n",
       "  'feelslike_c': 35.3,\n",
       "  'feelslike_f': 95.5,\n",
       "  'vis_km': 10.0,\n",
       "  'vis_miles': 6.0,\n",
       "  'uv': 1.0,\n",
       "  'gust_mph': 17.9,\n",
       "  'gust_kph': 28.8}}"
      ]
     },
     "execution_count": 8,
     "metadata": {},
     "output_type": "execute_result"
    }
   ],
   "source": [
    "get_current_weather(\"chennai\")"
   ]
  },
  {
   "cell_type": "code",
   "execution_count": 51,
   "metadata": {},
   "outputs": [
    {
     "data": {
      "text/plain": [
       "[{'role': 'system',\n",
       "  'content': '\\nYou are Weather bot created by kartik, You first greet the customer, and you MUST introduce yourself as -\\n\"Hi I am Weather bot created by kartik! How may I assist you today?\" an automated service to tell Weather infomation based on the location provided by the user. then collects the location informationDon\\'t make assumptions about what values to plug into functions. Ask for clarification if a user request is ambiguous.\\nYou respond in a short, very conversational friendly style. '},\n",
       " {'role': 'user', 'content': 'Hi there!'},\n",
       " {'role': 'assistant',\n",
       "  'content': 'Hi! I am Weather bot created by kartik! How may I assist you today?'}]"
      ]
     },
     "execution_count": 51,
     "metadata": {},
     "output_type": "execute_result"
    }
   ],
   "source": [
    "messages"
   ]
  },
  {
   "cell_type": "code",
   "execution_count": 52,
   "metadata": {},
   "outputs": [],
   "source": [
    "user_message = \"Hi there!\"\n",
    "messages.append({\"role\": \"user\", \"content\": user_message})"
   ]
  },
  {
   "cell_type": "code",
   "execution_count": 53,
   "metadata": {},
   "outputs": [
    {
     "data": {
      "text/plain": [
       "[{'role': 'system',\n",
       "  'content': '\\nYou are Weather bot created by kartik, You first greet the customer, and you MUST introduce yourself as -\\n\"Hi I am Weather bot created by kartik! How may I assist you today?\" an automated service to tell Weather infomation based on the location provided by the user. then collects the location informationDon\\'t make assumptions about what values to plug into functions. Ask for clarification if a user request is ambiguous.\\nYou respond in a short, very conversational friendly style. '},\n",
       " {'role': 'user', 'content': 'Hi there!'},\n",
       " {'role': 'assistant',\n",
       "  'content': 'Hi! I am Weather bot created by kartik! How may I assist you today?'},\n",
       " {'role': 'user', 'content': 'Hi there!'}]"
      ]
     },
     "execution_count": 53,
     "metadata": {},
     "output_type": "execute_result"
    }
   ],
   "source": [
    "messages"
   ]
  },
  {
   "cell_type": "code",
   "execution_count": 54,
   "metadata": {},
   "outputs": [
    {
     "data": {
      "text/plain": [
       "<Response [200]>"
      ]
     },
     "execution_count": 54,
     "metadata": {},
     "output_type": "execute_result"
    }
   ],
   "source": [
    "chat_response = chat_completion_request(messages = messages, functions = functions)\n",
    "chat_response"
   ]
  },
  {
   "cell_type": "code",
   "execution_count": 55,
   "metadata": {},
   "outputs": [
    {
     "data": {
      "text/plain": [
       "{'id': 'chatcmpl-7laZ8Hi5Voc70W8gzMHxPqnVgifK1',\n",
       " 'object': 'chat.completion',\n",
       " 'created': 1691576330,\n",
       " 'model': 'gpt-3.5-turbo-0613',\n",
       " 'choices': [{'index': 0,\n",
       "   'message': {'role': 'assistant',\n",
       "    'content': 'Hi! How can I assist you today? Let me know if you need any weather information for a specific location.'},\n",
       "   'finish_reason': 'stop'}],\n",
       " 'usage': {'prompt_tokens': 190, 'completion_tokens': 24, 'total_tokens': 214}}"
      ]
     },
     "execution_count": 55,
     "metadata": {},
     "output_type": "execute_result"
    }
   ],
   "source": [
    "chat_response.json()"
   ]
  },
  {
   "cell_type": "code",
   "execution_count": null,
   "metadata": {},
   "outputs": [],
   "source": []
  },
  {
   "cell_type": "code",
   "execution_count": null,
   "metadata": {},
   "outputs": [],
   "source": [
    "messages"
   ]
  },
  {
   "cell_type": "code",
   "execution_count": null,
   "metadata": {},
   "outputs": [],
   "source": [
    "user_message = \"I want to know the weather at Bengaluru\"\n",
    "messages.append({\"role\": \"user\", \"content\": user_message})"
   ]
  },
  {
   "cell_type": "code",
   "execution_count": null,
   "metadata": {},
   "outputs": [],
   "source": [
    "chat_response = chat_completion_request(messages = messages, functions = functions)\n",
    "assistant_message =chat_response.json()\n",
    "assistant_message"
   ]
  },
  {
   "cell_type": "code",
   "execution_count": 85,
   "metadata": {},
   "outputs": [],
   "source": [
    "import requests\n",
    "\n",
    "def chat_completion_request(messages, functions=None, function_call=None, model=GPT_MODEL):\n",
    "    headers = {\n",
    "        \"Content-Type\": \"application/json\",\n",
    "        \"Authorization\": \"Bearer \" + OPENAI_API_KEY,\n",
    "    }\n",
    "    json_data = {\n",
    "        \"model\": model, \n",
    "        \"messages\": messages\n",
    "        }\n",
    "    if functions is not None:\n",
    "        json_data.update({\"functions\": functions})\n",
    "    if function_call is not None:\n",
    "        json_data.update({\"function_call\": function_call})\n",
    "    try:\n",
    "        response = requests.post(\n",
    "            \"https://api.openai.com/v1/chat/completions\",\n",
    "            headers=headers,\n",
    "            json=json_data,\n",
    "        )\n",
    "\n",
    "        return response\n",
    "    except Exception as e:\n",
    "        print(f\"\\n>>>> Unable to generate ChatCompletion response\")\n",
    "        print(f\"\\n>>>> Exception: {e}\")\n",
    "        raise e\n"
   ]
  },
  {
   "cell_type": "code",
   "execution_count": 115,
   "metadata": {},
   "outputs": [
    {
     "name": "stdout",
     "output_type": "stream",
     "text": [
      "\n",
      ">>>> complete_chat_response: \n",
      "{'id': 'chatcmpl-7lbjGGT38mkQJeKBn0okfpmhPydgH', 'object': 'chat.completion', 'created': 1691580802, 'model': 'gpt-3.5-turbo-0613', 'choices': [{'index': 0, 'message': {'role': 'assistant', 'content': 'Hi there! I am Weather bot created by kartik! How may I assist you today?'}, 'finish_reason': 'stop'}], 'usage': {'prompt_tokens': 161, 'completion_tokens': 20, 'total_tokens': 181}}\n",
      "\n",
      ">>>> assistant message: \n",
      "{'role': 'assistant', 'content': 'Hi there! I am Weather bot created by kartik! How may I assist you today?'}\n"
     ]
    }
   ],
   "source": [
    "messages = list()\n",
    "messages.append({\"role\": \"system\", \"content\": system_instruction})\n",
    "\n",
    "\n",
    "user_message = \"Hi there!\"\n",
    "messages.append({\"role\": \"user\", \"content\": user_message})\n",
    "chat_response = chat_completion_request(messages = messages, functions = functions)\n",
    "print(f\"\\n>>>> complete_chat_response: \\n{chat_response.json()}\")\n",
    "assistant_message = chat_response.json()[\"choices\"][0][\"message\"]\n",
    "print(f\"\\n>>>> assistant message: \\n{assistant_message}\")"
   ]
  },
  {
   "cell_type": "code",
   "execution_count": 116,
   "metadata": {},
   "outputs": [
    {
     "data": {
      "text/plain": [
       "[{'role': 'system',\n",
       "  'content': '\\nYou are Weather bot created by kartik, You first greet the customer, and you MUST introduce yourself as -\\n\"Hi I am Weather bot created by kartik! How may I assist you today?\" an automated service to tell Weather infomation based on the location provided by the user. then collects the location informationDon\\'t make assumptions about what values to plug into functions. Ask for clarification if a user request is ambiguous.\\nYou respond in a short, very conversational friendly style. '},\n",
       " {'role': 'user', 'content': 'Hi there!'}]"
      ]
     },
     "execution_count": 116,
     "metadata": {},
     "output_type": "execute_result"
    }
   ],
   "source": [
    "messages"
   ]
  },
  {
   "cell_type": "code",
   "execution_count": 117,
   "metadata": {},
   "outputs": [
    {
     "data": {
      "text/plain": [
       "[{'role': 'system',\n",
       "  'content': '\\nYou are Weather bot created by kartik, You first greet the customer, and you MUST introduce yourself as -\\n\"Hi I am Weather bot created by kartik! How may I assist you today?\" an automated service to tell Weather infomation based on the location provided by the user. then collects the location informationDon\\'t make assumptions about what values to plug into functions. Ask for clarification if a user request is ambiguous.\\nYou respond in a short, very conversational friendly style. '},\n",
       " {'role': 'user', 'content': 'Hi there!'},\n",
       " {'role': 'assistant',\n",
       "  'content': 'Hi there! I am Weather bot created by kartik! How may I assist you today?'}]"
      ]
     },
     "execution_count": 117,
     "metadata": {},
     "output_type": "execute_result"
    }
   ],
   "source": [
    "messages.append(assistant_message) # to give context\n",
    "messages"
   ]
  },
  {
   "cell_type": "code",
   "execution_count": 125,
   "metadata": {},
   "outputs": [
    {
     "name": "stdout",
     "output_type": "stream",
     "text": [
      "\n",
      ">>>> complete_chat_response: \n",
      "{'id': 'chatcmpl-7lbmFYl7HU8T3eYy0fJDx6nX6w4vX', 'object': 'chat.completion', 'created': 1691580987, 'model': 'gpt-3.5-turbo-0613', 'choices': [{'index': 0, 'message': {'role': 'assistant', 'content': None, 'function_call': {'name': 'get_current_weather', 'arguments': '{\\n  \"location\": \"Warangal\"\\n}'}}, 'finish_reason': 'function_call'}], 'usage': {'prompt_tokens': 206, 'completion_tokens': 18, 'total_tokens': 224}}\n",
      "\n"
     ]
    }
   ],
   "source": [
    "user_message = \"what is climate in warangal\"\n",
    "messages.append({\"role\": \"user\", \"content\": user_message})\n",
    "chat_response = chat_completion_request(messages = messages, functions = functions)\n",
    "print(f\"\\n>>>> complete_chat_response: \\n{chat_response.json()}\\n\")"
   ]
  },
  {
   "cell_type": "code",
   "execution_count": 126,
   "metadata": {},
   "outputs": [
    {
     "data": {
      "text/plain": [
       "'Warangal'"
      ]
     },
     "execution_count": 126,
     "metadata": {},
     "output_type": "execute_result"
    }
   ],
   "source": [
    "arguments = assistant_message['function_call']['arguments']\n",
    "location = arguments.split('\"location\": \"')[1].split('\"')[0]\n",
    "location"
   ]
  },
  {
   "cell_type": "code",
   "execution_count": 119,
   "metadata": {},
   "outputs": [
    {
     "name": "stdout",
     "output_type": "stream",
     "text": [
      "\n",
      ">>>> assistant message: \n",
      "{'role': 'assistant', 'content': None, 'function_call': {'name': 'get_current_weather', 'arguments': '{\\n  \"location\": \"Warangal\"\\n}'}}\n"
     ]
    }
   ],
   "source": [
    "assistant_message = chat_response.json()[\"choices\"][0][\"message\"]\n",
    "print(f\"\\n>>>> assistant message: \\n{assistant_message}\")"
   ]
  },
  {
   "cell_type": "code",
   "execution_count": 120,
   "metadata": {},
   "outputs": [
    {
     "name": "stdout",
     "output_type": "stream",
     "text": [
      "Warangal\n"
     ]
    }
   ],
   "source": [
    "arguments = assistant_message['function_call']['arguments']\n",
    "location = arguments.split('\"location\": \"')[1].split('\"')[0]\n",
    "\n",
    "print(location)\n",
    "\n",
    "\n",
    "\n",
    "\n",
    "\n"
   ]
  },
  {
   "cell_type": "code",
   "execution_count": 121,
   "metadata": {},
   "outputs": [],
   "source": [
    "def execute_function_call(assistant_message):\n",
    "    if assistant_message.get(\"function_call\").get(\"name\") == \"get_current_weather\":\n",
    "        location = json.loads(assistant_message.get(\"function_call\").get(\"arguments\") )[\"location\"]\n",
    "        results = get_current_weather(location)\n",
    "    else:\n",
    "        results = f\"Error: function {assistant_message['function_call']['name']} does not exist\"\n",
    "\n",
    "    return results\n"
   ]
  },
  {
   "cell_type": "code",
   "execution_count": 122,
   "metadata": {},
   "outputs": [
    {
     "data": {
      "text/plain": [
       "{'location': {'name': 'Warangal',\n",
       "  'region': 'Andhra Pradesh',\n",
       "  'country': 'India',\n",
       "  'lat': 18.0,\n",
       "  'lon': 79.58,\n",
       "  'tz_id': 'Asia/Kolkata',\n",
       "  'localtime_epoch': 1691580823,\n",
       "  'localtime': '2023-08-09 17:03'},\n",
       " 'current': {'last_updated_epoch': 1691580600,\n",
       "  'last_updated': '2023-08-09 17:00',\n",
       "  'temp_c': 30.1,\n",
       "  'temp_f': 86.2,\n",
       "  'is_day': 1,\n",
       "  'condition': {'text': 'Light rain shower',\n",
       "   'icon': '//cdn.weatherapi.com/weather/64x64/day/353.png',\n",
       "   'code': 1240},\n",
       "  'wind_mph': 6.9,\n",
       "  'wind_kph': 11.2,\n",
       "  'wind_degree': 290,\n",
       "  'wind_dir': 'WNW',\n",
       "  'pressure_mb': 1007.0,\n",
       "  'pressure_in': 29.74,\n",
       "  'precip_mm': 1.4,\n",
       "  'precip_in': 0.06,\n",
       "  'humidity': 62,\n",
       "  'cloud': 74,\n",
       "  'feelslike_c': 33.5,\n",
       "  'feelslike_f': 92.3,\n",
       "  'vis_km': 10.0,\n",
       "  'vis_miles': 6.0,\n",
       "  'uv': 7.0,\n",
       "  'gust_mph': 10.1,\n",
       "  'gust_kph': 16.2}}"
      ]
     },
     "execution_count": 122,
     "metadata": {},
     "output_type": "execute_result"
    }
   ],
   "source": [
    "results = execute_function_call(assistant_message)\n",
    "results"
   ]
  },
  {
   "cell_type": "code",
   "execution_count": 127,
   "metadata": {},
   "outputs": [
    {
     "data": {
      "text/plain": [
       "'Warangal'"
      ]
     },
     "execution_count": 127,
     "metadata": {},
     "output_type": "execute_result"
    }
   ],
   "source": [
    "arguments = assistant_message['function_call']['arguments']\n",
    "location = arguments.split('\"location\": \"')[1].split('\"')[0]\n",
    "location"
   ]
  },
  {
   "cell_type": "code",
   "execution_count": 106,
   "metadata": {},
   "outputs": [
    {
     "ename": "AttributeError",
     "evalue": "'NoneType' object has no attribute 'get'",
     "output_type": "error",
     "traceback": [
      "\u001b[1;31m---------------------------------------------------------------------------\u001b[0m",
      "\u001b[1;31mAttributeError\u001b[0m                            Traceback (most recent call last)",
      "Cell \u001b[1;32mIn[106], line 2\u001b[0m\n\u001b[0;32m      1\u001b[0m assistant_message\u001b[39m.\u001b[39mget(\u001b[39m\"\u001b[39m\u001b[39mfunction_call\u001b[39m\u001b[39m\"\u001b[39m)\n\u001b[1;32m----> 2\u001b[0m assistant_message\u001b[39m.\u001b[39;49mget(\u001b[39m\"\u001b[39;49m\u001b[39mfunction_call\u001b[39;49m\u001b[39m\"\u001b[39;49m)\u001b[39m.\u001b[39;49mget(\u001b[39m\"\u001b[39m\u001b[39mname\u001b[39m\u001b[39m\"\u001b[39m) \u001b[39m# string\u001b[39;00m\n",
      "\u001b[1;31mAttributeError\u001b[0m: 'NoneType' object has no attribute 'get'"
     ]
    }
   ],
   "source": [
    "assistant_message.get(\"function_call\")\n",
    "assistant_message.get(\"function_call\").get(\"name\") # string"
   ]
  },
  {
   "cell_type": "code",
   "execution_count": 42,
   "metadata": {},
   "outputs": [],
   "source": [
    "assistant_message.get(\"function_call\")"
   ]
  },
  {
   "cell_type": "code",
   "execution_count": 43,
   "metadata": {},
   "outputs": [
    {
     "ename": "AttributeError",
     "evalue": "'NoneType' object has no attribute 'get'",
     "output_type": "error",
     "traceback": [
      "\u001b[1;31m---------------------------------------------------------------------------\u001b[0m",
      "\u001b[1;31mAttributeError\u001b[0m                            Traceback (most recent call last)",
      "Cell \u001b[1;32mIn[43], line 1\u001b[0m\n\u001b[1;32m----> 1\u001b[0m location\u001b[39m=\u001b[39mjson\u001b[39m.\u001b[39mloads(assistant_message\u001b[39m.\u001b[39;49mget(\u001b[39m\"\u001b[39;49m\u001b[39mfunction_call\u001b[39;49m\u001b[39m\"\u001b[39;49m)\u001b[39m.\u001b[39;49mget(\u001b[39m\"\u001b[39m\u001b[39marguments\u001b[39m\u001b[39m\"\u001b[39m) )[\u001b[39m\"\u001b[39m\u001b[39mlocation\u001b[39m\u001b[39m\"\u001b[39m]\n\u001b[0;32m      2\u001b[0m location\n",
      "\u001b[1;31mAttributeError\u001b[0m: 'NoneType' object has no attribute 'get'"
     ]
    }
   ],
   "source": [
    "location=json.loads(assistant_message.get(\"function_call\").get(\"arguments\") )[\"location\"]\n",
    "location"
   ]
  },
  {
   "cell_type": "code",
   "execution_count": 128,
   "metadata": {},
   "outputs": [],
   "source": [
    "import json\n",
    "\n",
    "def execute_function_call(assistant_message):\n",
    "    if assistant_message.get(\"function_call\").get(\"name\") == \"get_current_weather\":\n",
    "        location = json.loads(assistant_message.get(\"function_call\").get(\"arguments\") )[\"location\"]\n",
    "        results = get_current_weather(location)\n",
    "    else:\n",
    "        results = f\"Error: function {assistant_message['function_call']['name']} does not exist\"\n",
    "\n",
    "    return results"
   ]
  },
  {
   "cell_type": "code",
   "execution_count": 129,
   "metadata": {},
   "outputs": [
    {
     "data": {
      "text/plain": [
       "{'role': 'assistant',\n",
       " 'content': None,\n",
       " 'function_call': {'name': 'get_current_weather',\n",
       "  'arguments': '{\\n  \"location\": \"Warangal\"\\n}'}}"
      ]
     },
     "execution_count": 129,
     "metadata": {},
     "output_type": "execute_result"
    }
   ],
   "source": [
    "assistant_message"
   ]
  },
  {
   "cell_type": "code",
   "execution_count": 130,
   "metadata": {},
   "outputs": [
    {
     "data": {
      "text/plain": [
       "'{\"location\": {\"name\": \"Warangal\", \"region\": \"Andhra Pradesh\", \"country\": \"India\", \"lat\": 18.0, \"lon\": 79.58, \"tz_id\": \"Asia/Kolkata\", \"localtime_epoch\": 1691581102, \"localtime\": \"2023-08-09 17:08\"}, \"current\": {\"last_updated_epoch\": 1691580600, \"last_updated\": \"2023-08-09 17:00\", \"temp_c\": 30.1, \"temp_f\": 86.2, \"is_day\": 1, \"condition\": {\"text\": \"Light rain shower\", \"icon\": \"//cdn.weatherapi.com/weather/64x64/day/353.png\", \"code\": 1240}, \"wind_mph\": 6.9, \"wind_kph\": 11.2, \"wind_degree\": 290, \"wind_dir\": \"WNW\", \"pressure_mb\": 1007.0, \"pressure_in\": 29.74, \"precip_mm\": 1.4, \"precip_in\": 0.06, \"humidity\": 62, \"cloud\": 74, \"feelslike_c\": 33.5, \"feelslike_f\": 92.3, \"vis_km\": 10.0, \"vis_miles\": 6.0, \"uv\": 7.0, \"gust_mph\": 10.1, \"gust_kph\": 16.2}}'"
      ]
     },
     "execution_count": 130,
     "metadata": {},
     "output_type": "execute_result"
    }
   ],
   "source": [
    "results = execute_function_call(assistant_message)\n",
    "content = json.dumps(results)\n",
    "content"
   ]
  },
  {
   "cell_type": "code",
   "execution_count": 133,
   "metadata": {},
   "outputs": [
    {
     "name": "stdout",
     "output_type": "stream",
     "text": [
      "\n",
      ">>>> recieved message: {'id': 'chatcmpl-7lc5vN7UgfcL2xBCQPEjUqhgI9Ua3', 'object': 'chat.completion', 'created': 1691582207, 'model': 'gpt-3.5-turbo-0613', 'choices': [{'index': 0, 'message': {'role': 'assistant', 'content': 'The temperature in Warangal is 30.1 degrees. Warangal is a beautiful place where you can explore ancient temples and architectural wonders like the Thousand Pillar Temple and the Warangal Fort. You can also enjoy the stunning natural landscapes by visiting the Pakhal Lake and the nearby wildlife sanctuary. Whatever your interests are, Warangal offers a mix of historical and natural attractions for you to enjoy!'}, 'finish_reason': 'stop'}], 'usage': {'prompt_tokens': 964, 'completion_tokens': 83, 'total_tokens': 1047}}\n",
      "\n",
      ">>>> natural response: \n",
      "The temperature in Warangal is 30.1 degrees. Warangal is a beautiful place where you can explore ancient temples and architectural wonders like the Thousand Pillar Temple and the Warangal Fort. You can also enjoy the stunning natural landscapes by visiting the Pakhal Lake and the nearby wildlife sanctuary. Whatever your interests are, Warangal offers a mix of historical and natural attractions for you to enjoy!\n"
     ]
    }
   ],
   "source": [
    "def get_natural_response(content):\n",
    "    convert_prompt = f\"convert this results from weather api to a natural english sentence containing only the temperature also dont mention country and state and also tell what you can do in that place to enjoy {content}\"\n",
    "    messages.append({\"role\": \"user\", \"content\": convert_prompt})\n",
    "    convert_prompt_response = chat_completion_request(messages=messages)\n",
    "    print(f\"\\n>>>> recieved message: {convert_prompt_response.json()}\")\n",
    "    new_assistant_message = convert_prompt_response.json()[\"choices\"][0][\"message\"]\n",
    "    messages.append(new_assistant_message)\n",
    "    content = new_assistant_message[\"content\"]\n",
    "    print(f\"\\n>>>> natural response: \\n{content}\")\n",
    "    return content\n",
    "\n",
    "\n",
    "content = get_natural_response(content)"
   ]
  },
  {
   "cell_type": "code",
   "execution_count": 29,
   "metadata": {},
   "outputs": [],
   "source": [
    "messages.append({'role': 'user', 'content': 'I want to know the weather at jaipur'})"
   ]
  },
  {
   "cell_type": "code",
   "execution_count": 132,
   "metadata": {},
   "outputs": [
    {
     "name": "stdout",
     "output_type": "stream",
     "text": [
      "\n",
      ">>>> recieved message: {'id': 'chatcmpl-7lbrtOS1KNAL9ZLCZeqBEm89A56Vq', 'object': 'chat.completion', 'created': 1691581337, 'model': 'gpt-3.5-turbo-0613', 'choices': [{'index': 0, 'message': {'role': 'assistant', 'content': 'The temperature in Warangal is 30.1 degrees.'}, 'finish_reason': 'stop'}], 'usage': {'prompt_tokens': 897, 'completion_tokens': 13, 'total_tokens': 910}}\n",
      "\n",
      ">>>> natural response: \n",
      "The temperature in Warangal is 30.1 degrees.\n"
     ]
    }
   ],
   "source": [
    "result=execute_function_call(assistant_message)\n",
    "content=json.dumps(result)\n",
    "content=get_natural_response(content)"
   ]
  },
  {
   "cell_type": "code",
   "execution_count": 30,
   "metadata": {},
   "outputs": [
    {
     "name": "stdout",
     "output_type": "stream",
     "text": [
      "\n",
      ">>>> recieved message: {'id': 'chatcmpl-7lKRBtF6OXPyi33D5JKYme7gD3UFv', 'object': 'chat.completion', 'created': 1691514333, 'model': 'gpt-3.5-turbo-0613', 'choices': [{'index': 0, 'message': {'role': 'assistant', 'content': 'Sure! Let me check the current weather in Jaipur for you.'}, 'finish_reason': 'stop'}], 'usage': {'prompt_tokens': 655, 'completion_tokens': 14, 'total_tokens': 669}}\n",
      "\n",
      ">>>> natural response: \n",
      "Sure! Let me check the current weather in Jaipur for you.\n"
     ]
    }
   ],
   "source": [
    "content = get_natural_response(content)"
   ]
  }
 ],
 "metadata": {
  "kernelspec": {
   "display_name": "weather",
   "language": "python",
   "name": "python3"
  },
  "language_info": {
   "codemirror_mode": {
    "name": "ipython",
    "version": 3
   },
   "file_extension": ".py",
   "mimetype": "text/x-python",
   "name": "python",
   "nbconvert_exporter": "python",
   "pygments_lexer": "ipython3",
   "version": "3.9.17"
  },
  "orig_nbformat": 4
 },
 "nbformat": 4,
 "nbformat_minor": 2
}
